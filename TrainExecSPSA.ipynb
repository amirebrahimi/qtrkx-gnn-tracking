{
 "cells": [
  {
   "cell_type": "code",
   "execution_count": 12,
   "id": "bf0b88cf-bc31-46a7-b805-747663004efc",
   "metadata": {},
   "outputs": [],
   "source": [
    "!pip install tensorflow --quiet\n",
    "!pip install tensorflow-quantum --quiet\n",
    "!pip install sklearn --quiet"
   ]
  },
  {
   "cell_type": "code",
   "execution_count": 1,
   "id": "23b64732-ada9-40f6-a750-b9ef2a91a6d7",
   "metadata": {},
   "outputs": [
    {
     "name": "stdout",
     "output_type": "stream",
     "text": [
      "Printing configs: \n",
      "train_dir: data_new/train\n",
      "valid_dir: data_new/valid\n",
      "dataset: mu200_1pT\n",
      "log_dir: logs/test/run1/\n",
      "run_type: new_run\n",
      "gpu: 0\n",
      "n_files: 100\n",
      "n_valid: 50\n",
      "n_train: 50\n",
      "batch_size: 1\n",
      "lr_c: 0.01\n",
      "n_iters: 3\n",
      "n_epoch: 10\n",
      "TEST_every: 5\n",
      "hid_dim: 4\n",
      "network: QGNN\n",
      "optimizer: Adam\n",
      "loss_func: BinaryCrossentropy\n",
      "n_thread: 8\n",
      "log_verbosity: 2\n",
      "EN_qc: {'PQC_id': '102', 'IEC_id': 'simple_encoding_y', 'MC_id': 'measure_all', 'n_layers': 3, 'repetitions': 0, 'n_qubits': 4}\n",
      "NN_qc: {'PQC_id': '102', 'IEC_id': 'simple_encoding_y', 'MC_id': 'measure_all', 'n_layers': 3, 'repetitions': 0, 'n_qubits': 4}\n",
      "Log dir: logs/test/run1/\n",
      "Training data input dir: data_new/train\n",
      "Validation data input dir: data_new/train\n",
      "2022-02-25 14:13:47.619572 Deleted old log: logs/test/run1/log_gradients_5.csv\n",
      "2022-02-25 14:13:47.623966 Deleted old log: logs/test/run1/log_parameters_11.csv\n",
      "2022-02-25 14:13:47.629937 Deleted old log: logs/test/run1/log_parameters_2.csv\n",
      "2022-02-25 14:13:47.634415 Deleted old log: logs/test/run1/summary.csv\n",
      "2022-02-25 14:13:47.638392 Deleted old log: logs/test/run1/log_gradients_9.csv\n",
      "2022-02-25 14:13:47.642225 Deleted old log: logs/test/run1/log_parameters_6.csv\n",
      "2022-02-25 14:13:47.648148 Deleted old log: logs/test/run1/log_gradients_10.csv\n",
      "2022-02-25 14:13:47.652266 Deleted old log: logs/test/run1/log_gradients_1.csv\n",
      "2022-02-25 14:13:47.659980 Deleted old log: logs/test/run1/log_gradients_7.csv\n",
      "2022-02-25 14:13:47.719638 Deleted old log: logs/test/run1/log_parameters_4.csv\n",
      "2022-02-25 14:13:47.726883 Deleted old log: logs/test/run1/log_parameters_8.csv\n",
      "2022-02-25 14:13:47.731152 Deleted old log: logs/test/run1/log_validation.csv\n",
      "2022-02-25 14:13:47.738196 Deleted old log: logs/test/run1/log_gradients_3.csv\n",
      "2022-02-25 14:13:47.744244 Deleted old log: logs/test/run1/log_parameters_0.csv\n",
      "2022-02-25 14:13:47.750797 Deleted old log: logs/test/run1/log_parameters_3.csv\n",
      "2022-02-25 14:13:47.755073 Deleted old log: logs/test/run1/log_gradients_6.csv\n",
      "2022-02-25 14:13:47.759239 Deleted old log: logs/test/run1/log_parameters_7.csv\n",
      "2022-02-25 14:13:47.819562 Deleted old log: logs/test/run1/log_gradients_11.csv\n",
      "2022-02-25 14:13:47.826062 Deleted old log: logs/test/run1/log_gradients_2.csv\n",
      "2022-02-25 14:13:47.830337 Deleted old log: logs/test/run1/log_parameters_5.csv\n",
      "2022-02-25 14:13:47.836535 Deleted old log: logs/test/run1/log_gradients_8.csv\n",
      "2022-02-25 14:13:47.842051 Deleted old log: logs/test/run1/log_gradients_0.csv\n",
      "2022-02-25 14:13:47.846227 Deleted old log: logs/test/run1/log_training.csv\n",
      "2022-02-25 14:13:47.849509 Deleted old log: logs/test/run1/log_parameters_9.csv\n",
      "2022-02-25 14:13:47.856101 Deleted old log: logs/test/run1/log_parameters_10.csv\n",
      "2022-02-25 14:13:47.919569 Deleted old log: logs/test/run1/log_parameters_1.csv\n",
      "2022-02-25 14:13:47.924048 Deleted old log: logs/test/run1/log_gradients_4.csv\n",
      "102_PQC(VAN BUREN)\n",
      "                                                      ┌───────────┐                                     ┌────────────┐                                       ┌────────────┐\n",
      "(0, 0): ───Ry(x0)───Ry(theta0)───@─────────────────────X──────────────Rz(theta4)───@─────────────────────X───────────────Rz(theta8)────@──────────────────────X───────────────Rz(theta12)───\n",
      "                                 │                     │                           │                     │                             │                      │\n",
      "(1, 0): ───Ry(x1)───Ry(theta1)───X───@───Rz(theta5)────┼───────────────────────────X───@───Rz(theta9)────┼─────────────────────────────X───@───Rz(theta13)────┼─────────────────────────────\n",
      "                                     │                 │                               │                 │                                 │                  │\n",
      "(2, 0): ───Ry(x2)───Ry(theta2)───────X───@─────────────┼Rz(theta6)─────────────────────X───@─────────────┼Rz(theta10)──────────────────────X───@──────────────┼Rz(theta14)──────────────────\n",
      "                                         │             │                                   │             │                                     │              │\n",
      "(3, 0): ───Ry(x3)───Ry(theta3)───────────X─────────────@──────────────Rz(theta7)───────────X─────────────@───────────────Rz(theta11)───────────X──────────────@───────────────Rz(theta15)───\n",
      "                                                      └───────────┘                                     └────────────┘                                       └────────────┘\n",
      "102_PQC(VAN BUREN)\n",
      "                                                      ┌───────────┐                                     ┌────────────┐                                       ┌────────────┐\n",
      "(0, 0): ───Ry(x0)───Ry(theta0)───@─────────────────────X──────────────Rz(theta4)───@─────────────────────X───────────────Rz(theta8)────@──────────────────────X───────────────Rz(theta12)───\n",
      "                                 │                     │                           │                     │                             │                      │\n",
      "(1, 0): ───Ry(x1)───Ry(theta1)───X───@───Rz(theta5)────┼───────────────────────────X───@───Rz(theta9)────┼─────────────────────────────X───@───Rz(theta13)────┼─────────────────────────────\n",
      "                                     │                 │                               │                 │                                 │                  │\n",
      "(2, 0): ───Ry(x2)───Ry(theta2)───────X───@─────────────┼Rz(theta6)─────────────────────X───@─────────────┼Rz(theta10)──────────────────────X───@──────────────┼Rz(theta14)──────────────────\n",
      "                                         │             │                                   │             │                                     │              │\n",
      "(3, 0): ───Ry(x3)───Ry(theta3)───────────X─────────────@──────────────Rz(theta7)───────────X─────────────@───────────────Rz(theta11)───────────X──────────────@───────────────Rz(theta15)───\n",
      "                                                      └───────────┘                                     └────────────┘                                       └────────────┘\n"
     ]
    }
   ],
   "source": [
    "!python3 train.py configs/test_x_SPSA.yaml 1"
   ]
  },
  {
   "cell_type": "code",
   "execution_count": 14,
   "id": "cbda33c6-ae3e-45c5-ae7c-22690d738b3a",
   "metadata": {},
   "outputs": [
    {
     "name": "stdout",
     "output_type": "stream",
     "text": [
      "^C\n"
     ]
    }
   ],
   "source": [
    "!time python -m cProfile -s cumtime train.py configs/spsa_config.yaml 1 > profile.txt"
   ]
  },
  {
   "cell_type": "code",
   "execution_count": null,
   "id": "8bc622c6-a234-4753-99bc-8739b2410c49",
   "metadata": {},
   "outputs": [],
   "source": []
  }
 ],
 "metadata": {
  "kernelspec": {
   "display_name": "Python 3 [qBraid]",
   "language": "python",
   "name": "python3_qbraid"
  },
  "language_info": {
   "codemirror_mode": {
    "name": "ipython",
    "version": 3
   },
   "file_extension": ".py",
   "mimetype": "text/x-python",
   "name": "python",
   "nbconvert_exporter": "python",
   "pygments_lexer": "ipython3",
   "version": "3.9.7"
  }
 },
 "nbformat": 4,
 "nbformat_minor": 5
}
