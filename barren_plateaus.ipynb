{
 "cells": [
  {
   "cell_type": "markdown",
   "metadata": {
    "colab_type": "text",
    "id": "xLOXFOT5Q40E"
   },
   "source": [
    "##### Copyright 2020 The TensorFlow Authors."
   ]
  },
  {
   "cell_type": "code",
   "execution_count": null,
   "metadata": {
    "cellView": "form",
    "colab": {},
    "colab_type": "code",
    "id": "iiQkM5ZgQ8r2",
    "tags": []
   },
   "outputs": [],
   "source": [
    "#@title Licensed under the Apache License, Version 2.0 (the \"License\");\n",
    "# you may not use this file except in compliance with the License.\n",
    "# You may obtain a copy of the License at\n",
    "#\n",
    "# https://www.apache.org/licenses/LICENSE-2.0\n",
    "#\n",
    "# Unless required by applicable law or agreed to in writing, software\n",
    "# distributed under the License is distributed on an \"AS IS\" BASIS,\n",
    "# WITHOUT WARRANTIES OR CONDITIONS OF ANY KIND, either express or implied.\n",
    "# See the License for the specific language governing permissions and\n",
    "# limitations under the License."
   ]
  },
  {
   "cell_type": "markdown",
   "metadata": {
    "colab_type": "text",
    "id": "j6331ZSsQGY3"
   },
   "source": [
    "# Barren plateaus\n",
    "\n",
    "(modified from the original)"
   ]
  },
  {
   "cell_type": "markdown",
   "metadata": {
    "colab_type": "text",
    "id": "i9Jcnb8bQQyd"
   },
   "source": [
    "<table class=\"tfo-notebook-buttons\" align=\"left\">\n",
    "  <td>\n",
    "    <a target=\"_blank\" href=\"https://www.tensorflow.org/quantum/tutorials/barren_plateaus\"><img src=\"https://www.tensorflow.org/images/tf_logo_32px.png\" />View on TensorFlow.org</a>\n",
    "  </td>\n",
    "  <td>\n",
    "    <a target=\"_blank\" href=\"https://colab.research.google.com/github/tensorflow/quantum/blob/master/docs/tutorials/barren_plateaus.ipynb\"><img src=\"https://www.tensorflow.org/images/colab_logo_32px.png\" />Run in Google Colab</a>\n",
    "  </td>\n",
    "  <td>\n",
    "    <a target=\"_blank\" href=\"https://github.com/tensorflow/quantum/blob/master/docs/tutorials/barren_plateaus.ipynb\"><img src=\"https://www.tensorflow.org/images/GitHub-Mark-32px.png\" />View source on GitHub</a>\n",
    "  </td>\n",
    "  <td>\n",
    "    <a href=\"https://storage.googleapis.com/tensorflow_docs/quantum/docs/tutorials/barren_plateaus.ipynb\"><img src=\"https://www.tensorflow.org/images/download_logo_32px.png\" />Download notebook</a>\n",
    "  </td>\n",
    "</table>"
   ]
  },
  {
   "cell_type": "markdown",
   "metadata": {
    "colab_type": "text",
    "id": "DyEcfFapraq6"
   },
   "source": [
    "In this example you will explore the result of <a href=\"https://www.nature.com/articles/s41467-018-07090-4\" class=\"external\">McClean, 2019</a> that says not just any quantum neural network structure will do well when it comes to learning. In particular you will see that a certain large family of random quantum circuits do not serve as good quantum neural networks, because they have gradients that vanish almost everywhere. In this example you won't be training any models for a specific learning problem, but instead focusing on the simpler problem of understanding the behaviors of gradients."
   ]
  },
  {
   "cell_type": "markdown",
   "metadata": {
    "colab_type": "text",
    "id": "zB_Xw0Y9rVNi"
   },
   "source": [
    "## Setup"
   ]
  },
  {
   "cell_type": "code",
   "execution_count": null,
   "metadata": {},
   "outputs": [],
   "source": [
    "%load_ext autoreload\n",
    "%autoreload 2"
   ]
  },
  {
   "cell_type": "code",
   "execution_count": null,
   "metadata": {
    "colab": {},
    "colab_type": "code",
    "id": "4Ql5PW-ACO0J",
    "tags": []
   },
   "outputs": [],
   "source": [
    "# Update package resources to account for version changes.\n",
    "import importlib, pkg_resources\n",
    "importlib.reload(pkg_resources)"
   ]
  },
  {
   "cell_type": "markdown",
   "metadata": {
    "colab_type": "text",
    "id": "1PaclXeSrrMW"
   },
   "source": [
    "Now import TensorFlow and the module dependencies:"
   ]
  },
  {
   "cell_type": "code",
   "execution_count": null,
   "metadata": {
    "colab": {},
    "colab_type": "code",
    "id": "enZ300Bflq80",
    "tags": []
   },
   "outputs": [],
   "source": [
    "import tensorflow as tf\n",
    "import tensorflow_quantum as tfq\n",
    "\n",
    "import cirq\n",
    "import sympy\n",
    "import numpy as np\n",
    "\n",
    "# visualization tools\n",
    "%matplotlib inline\n",
    "import matplotlib.pyplot as plt\n",
    "from cirq.contrib.svg import SVGCircuit\n",
    "\n",
    "np.random.seed(1234)\n",
    "tf.random.set_seed(1234)"
   ]
  },
  {
   "cell_type": "code",
   "execution_count": null,
   "metadata": {},
   "outputs": [],
   "source": [
    "from qcircuits.QCircuit import QCircuit\n",
    "import json\n",
    "from tqdm import tqdm\n",
    "tf.get_logger().setLevel('ERROR')"
   ]
  },
  {
   "cell_type": "code",
   "execution_count": null,
   "metadata": {},
   "outputs": [],
   "source": [
    "def process_batch(expectation, circuits, symbols, op):\n",
    "    \"\"\"Compute the variance of a batch of expectations w.r.t. op on each circuit that \n",
    "    contains `symbol`. Note that this method sets up a new compute graph every time it is\n",
    "    called so it isn't as performant as possible.\"\"\"\n",
    "    \n",
    "    # Setup a simple layer to batch compute the expectation gradients.\n",
    "    expectation = tfq.layers.Expectation()\n",
    "\n",
    "    # Prep the inputs as tensors\n",
    "    circuit_tensor = tfq.convert_to_tensor(circuits)\n",
    "    values_tensor = tf.convert_to_tensor(\n",
    "        np.random.uniform(0, 2 * np.pi, (len(circuits), len(symbols))).astype(np.float32))\n",
    "\n",
    "    # Use TensorFlow GradientTape to track gradients.\n",
    "    with tf.GradientTape() as g:\n",
    "        g.watch(values_tensor)\n",
    "        forward = expectation(circuit_tensor,\n",
    "                              operators=op,\n",
    "                              symbol_names=symbols,\n",
    "                              symbol_values=values_tensor)\n",
    "\n",
    "    # Return variance of gradients across all circuits.\n",
    "    grads = g.gradient(forward, values_tensor)\n",
    "    grad_var = tf.math.reduce_std(grads, axis=0)\n",
    "    return grad_var.numpy()[0]"
   ]
  },
  {
   "cell_type": "markdown",
   "metadata": {
    "colab_type": "text",
    "id": "JINYTIjDj_H1"
   },
   "source": [
    "### 3.1 Set up and run\n",
    "\n",
    "Choose the number of random circuits to generate along with their depth and the amount of qubits they should act on. Then plot the results."
   ]
  },
  {
   "cell_type": "code",
   "execution_count": null,
   "metadata": {
    "colab": {},
    "colab_type": "code",
    "id": "xAGBcq9Bj_H3",
    "tags": []
   },
   "outputs": [],
   "source": [
    "# n_qubits = [2 * i for i in range(2, 7)\n",
    "#            ]  # Ranges studied in paper are between 2 and 24.\n",
    "n_qubits = [4, 8, 16]\n",
    "# n_qubits = [4]\n",
    "# n_layers = [1, 7, 15, 25]\n",
    "n_layers = [1, 2]\n",
    "print(list(n_layers))\n",
    "# depth = 50  # Ranges studied in paper are between 50 and 500.\n",
    "n_circuits = 200\n",
    "\n",
    "with open('qcircuits/circuits_metadata.json') as json_file:\n",
    "    circuit_metadata = json.load(json_file)\n",
    "\n",
    "print(circuit_metadata['qc_pqc_dict'].keys())\n",
    "\n",
    "# Setup a simple layer to batch compute the expectation gradients.\n",
    "expectation = tfq.layers.Expectation()\n",
    "\n",
    "thetas = {}\n",
    "# for id in tqdm(circuit_metadata['qc_pqc_dict'].keys()):\n",
    "for id in tqdm(['10_identity', '10']):\n",
    "    theta_per_qubits = {}\n",
    "    for n in n_qubits:\n",
    "        theta_var = []\n",
    "        for l in n_layers:\n",
    "            try:\n",
    "                qc = QCircuit(IEC_id='simple_encoding_y',\n",
    "                        PQC_id=id,\n",
    "                        MC_id='measure_all',\n",
    "                        n_layers=l,\n",
    "                        input_size=n,\n",
    "                        p=0.01)\n",
    "                circuit = qc.pqc_circuit()[0]\n",
    "            except:\n",
    "                continue\n",
    "                \n",
    "            circuits = [\n",
    "                circuit for _ in range(n_circuits)\n",
    "            ]\n",
    "            op = qc.measurement_operators()\n",
    "\n",
    "            symbols = []\n",
    "            for i in range(int(qc.n_params)):\n",
    "                symbols.append('theta{}'.format(i)) \n",
    "\n",
    "            theta_var.append(process_batch(expectation, circuits, symbols, op))\n",
    "        theta_per_qubits[n] = theta_var\n",
    "    \n",
    "    thetas[id] = theta_per_qubits\n",
    "print(\"Done\")"
   ]
  },
  {
   "cell_type": "code",
   "execution_count": null,
   "metadata": {},
   "outputs": [],
   "source": [
    "fig, axs = plt.subplots(1,len(n_qubits), sharex=True, sharey=True, figsize=(10,4))\n",
    "\n",
    "plt.suptitle('Gradient Variance in QNNs')\n",
    "plt.xticks(n_layers)\n",
    "\n",
    "for i,n in enumerate(n_qubits):\n",
    "    for id, theta_per_qubits in thetas.items():        \n",
    "        if n in theta_per_qubits and len(theta_per_qubits[n]) > 0:\n",
    "            axs[i].semilogy(n_layers, theta_per_qubits[n], label=f\"{id}\")\n",
    "    axs[i].set_title(f\"{n} qubits\")\n",
    "    axs[i].set_xlabel('n_layers')\n",
    "    axs[i].set_ylabel('$\\\\partial \\\\theta$ variance')\n",
    "\n",
    "handles, labels = axs[0].get_legend_handles_labels()\n",
    "fig.legend(handles, labels, loc='upper right')\n",
    "plt.show()"
   ]
  },
  {
   "cell_type": "code",
   "execution_count": null,
   "metadata": {},
   "outputs": [],
   "source": [
    "# for id in tqdm(circuit_metadata['qc_pqc_dict'].keys()):\n",
    "for id in ['qc10_pqc_identity']:\n",
    "    qc = QCircuit(IEC_id='simple_encoding_y',\n",
    "            PQC_id=id,\n",
    "            MC_id='measure_all',\n",
    "            n_layers=2,\n",
    "            input_size=4,\n",
    "            p=0.01)\n",
    "    print(id)\n",
    "    print(\"-------------------\")\n",
    "    circuit = qc.model_circuit_pqc_only()[0]\n",
    "    print(circuit)\n",
    "    print(\"-------------------\")"
   ]
  }
 ],
 "metadata": {
  "colab": {
   "collapsed_sections": [],
   "name": "barren_plateaus.ipynb",
   "private_outputs": true,
   "provenance": [],
   "toc_visible": true
  },
  "kernelspec": {
   "display_name": "Python 3",
   "language": "python",
   "name": "python3"
  },
  "language_info": {
   "codemirror_mode": {
    "name": "ipython",
    "version": 3
   },
   "file_extension": ".py",
   "mimetype": "text/x-python",
   "name": "python",
   "nbconvert_exporter": "python",
   "pygments_lexer": "ipython3",
   "version": "3.8.5"
  }
 },
 "nbformat": 4,
 "nbformat_minor": 4
}
