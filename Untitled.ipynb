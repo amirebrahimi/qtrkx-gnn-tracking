{
 "cells": [
  {
   "cell_type": "code",
   "execution_count": null,
   "id": "b4ad2a89-7a5e-41de-9eb3-29ef46900739",
   "metadata": {},
   "outputs": [],
   "source": [
    "circuit = c\n",
    "def qc10_pqc(circuit, qubits, n_layers=1, n_qubits=4):\n",
    "    print(\"QC10_PQC\")\n",
    "    params  = sympy.symbols('theta:{}'.format(n_qubits*(1+n_layers)))\n",
    "    for i, qubit in enumerate(qubits):\n",
    "        #symbol = sympy.Symbol('theta_{}'.format(i+1))\n",
    "        circuit.append(cirq.ry(params[i])(qubit))\n",
    "    for layer in range(n_layers):\n",
    "        for i in range(n_qubits):\n",
    "            circuit.append(cirq.CZ(qubits[(n_qubits-2-i)%n_qubits], qubits[(n_qubits-1-i)%n_qubits]))\n",
    "        for i, qubit in enumerate(qubits):\n",
    "            #symbol = sympy.Symbol('theta_{}'.format(i+1+n_qubits*(layer+1)))\n",
    "            circuit.append(cirq.ry(params[i+n_qubits*(layer+1)])(qubit))\n",
    "    print(circuit)"
   ]
  },
  {
   "cell_type": "code",
   "execution_count": 5,
   "id": "8be38b7d-1d70-449a-a64d-8883a0c230b0",
   "metadata": {},
   "outputs": [
    {
     "ename": "AttributeError",
     "evalue": "'int' object has no attribute 'dimension'",
     "output_type": "error",
     "traceback": [
      "\u001b[0;31m---------------------------------------------------------------------------\u001b[0m",
      "\u001b[0;31mAttributeError\u001b[0m                            Traceback (most recent call last)",
      "Input \u001b[0;32mIn [5]\u001b[0m, in \u001b[0;36m<module>\u001b[0;34m\u001b[0m\n\u001b[1;32m      6\u001b[0m \u001b[38;5;66;03m# Create a circuit\u001b[39;00m\n\u001b[1;32m      7\u001b[0m circuit \u001b[38;5;241m=\u001b[39m cirq\u001b[38;5;241m.\u001b[39mCircuit()\n\u001b[0;32m----> 8\u001b[0m \u001b[43mcirq\u001b[49m\u001b[38;5;241;43m.\u001b[39;49m\u001b[43mH\u001b[49m\u001b[43m(\u001b[49m\u001b[38;5;241;43m0\u001b[39;49m\u001b[43m)\u001b[49m\n\u001b[1;32m      9\u001b[0m \u001b[38;5;28mprint\u001b[39m(\u001b[38;5;124m\"\u001b[39m\u001b[38;5;124mCircuit:\u001b[39m\u001b[38;5;124m\"\u001b[39m)\n\u001b[1;32m     10\u001b[0m \u001b[38;5;28mprint\u001b[39m(circuit)\n",
      "File \u001b[0;32m/opt/.qbraid/environments/qbraid_000000/pyenv/lib/python3.9/site-packages/cirq/ops/raw_types.py:324\u001b[0m, in \u001b[0;36mGate.__call__\u001b[0;34m(self, *args, **kwargs)\u001b[0m\n\u001b[1;32m    323\u001b[0m \u001b[38;5;28;01mdef\u001b[39;00m \u001b[38;5;21m__call__\u001b[39m(\u001b[38;5;28mself\u001b[39m, \u001b[38;5;241m*\u001b[39margs, \u001b[38;5;241m*\u001b[39m\u001b[38;5;241m*\u001b[39mkwargs):\n\u001b[0;32m--> 324\u001b[0m     \u001b[38;5;28;01mreturn\u001b[39;00m \u001b[38;5;28;43mself\u001b[39;49m\u001b[38;5;241;43m.\u001b[39;49m\u001b[43mon\u001b[49m\u001b[43m(\u001b[49m\u001b[38;5;241;43m*\u001b[39;49m\u001b[43margs\u001b[49m\u001b[43m,\u001b[49m\u001b[43m \u001b[49m\u001b[38;5;241;43m*\u001b[39;49m\u001b[38;5;241;43m*\u001b[39;49m\u001b[43mkwargs\u001b[49m\u001b[43m)\u001b[49m\n",
      "File \u001b[0;32m/opt/.qbraid/environments/qbraid_000000/pyenv/lib/python3.9/site-packages/cirq/ops/raw_types.py:214\u001b[0m, in \u001b[0;36mGate.on\u001b[0;34m(self, *qubits)\u001b[0m\n\u001b[1;32m    211\u001b[0m \u001b[38;5;66;03m# Avoids circular import.\u001b[39;00m\n\u001b[1;32m    212\u001b[0m \u001b[38;5;28;01mfrom\u001b[39;00m \u001b[38;5;21;01mcirq\u001b[39;00m\u001b[38;5;21;01m.\u001b[39;00m\u001b[38;5;21;01mops\u001b[39;00m \u001b[38;5;28;01mimport\u001b[39;00m gate_operation\n\u001b[0;32m--> 214\u001b[0m \u001b[38;5;28;01mreturn\u001b[39;00m \u001b[43mgate_operation\u001b[49m\u001b[38;5;241;43m.\u001b[39;49m\u001b[43mGateOperation\u001b[49m\u001b[43m(\u001b[49m\u001b[38;5;28;43mself\u001b[39;49m\u001b[43m,\u001b[49m\u001b[43m \u001b[49m\u001b[38;5;28;43mlist\u001b[39;49m\u001b[43m(\u001b[49m\u001b[43mqubits\u001b[49m\u001b[43m)\u001b[49m\u001b[43m)\u001b[49m\n",
      "File \u001b[0;32m/opt/.qbraid/environments/qbraid_000000/pyenv/lib/python3.9/site-packages/cirq/ops/gate_operation.py:61\u001b[0m, in \u001b[0;36mGateOperation.__init__\u001b[0;34m(self, gate, qubits)\u001b[0m\n\u001b[1;32m     54\u001b[0m \u001b[38;5;28;01mdef\u001b[39;00m \u001b[38;5;21m__init__\u001b[39m(\u001b[38;5;28mself\u001b[39m, gate: \u001b[38;5;124m'\u001b[39m\u001b[38;5;124mcirq.Gate\u001b[39m\u001b[38;5;124m'\u001b[39m, qubits: Sequence[\u001b[38;5;124m'\u001b[39m\u001b[38;5;124mcirq.Qid\u001b[39m\u001b[38;5;124m'\u001b[39m]) \u001b[38;5;241m-\u001b[39m\u001b[38;5;241m>\u001b[39m \u001b[38;5;28;01mNone\u001b[39;00m:\n\u001b[1;32m     55\u001b[0m     \u001b[38;5;124;03m\"\"\"Inits GateOperation.\u001b[39;00m\n\u001b[1;32m     56\u001b[0m \n\u001b[1;32m     57\u001b[0m \u001b[38;5;124;03m    Args:\u001b[39;00m\n\u001b[1;32m     58\u001b[0m \u001b[38;5;124;03m        gate: The gate to apply.\u001b[39;00m\n\u001b[1;32m     59\u001b[0m \u001b[38;5;124;03m        qubits: The qubits to operate on.\u001b[39;00m\n\u001b[1;32m     60\u001b[0m \u001b[38;5;124;03m    \"\"\"\u001b[39;00m\n\u001b[0;32m---> 61\u001b[0m     \u001b[43mgate\u001b[49m\u001b[38;5;241;43m.\u001b[39;49m\u001b[43mvalidate_args\u001b[49m\u001b[43m(\u001b[49m\u001b[43mqubits\u001b[49m\u001b[43m)\u001b[49m\n\u001b[1;32m     62\u001b[0m     \u001b[38;5;28mself\u001b[39m\u001b[38;5;241m.\u001b[39m_gate \u001b[38;5;241m=\u001b[39m gate\n\u001b[1;32m     63\u001b[0m     \u001b[38;5;28mself\u001b[39m\u001b[38;5;241m.\u001b[39m_qubits \u001b[38;5;241m=\u001b[39m \u001b[38;5;28mtuple\u001b[39m(qubits)\n",
      "File \u001b[0;32m/opt/.qbraid/environments/qbraid_000000/pyenv/lib/python3.9/site-packages/cirq/ops/raw_types.py:203\u001b[0m, in \u001b[0;36mGate.validate_args\u001b[0;34m(self, qubits)\u001b[0m\n\u001b[1;32m    186\u001b[0m \u001b[38;5;28;01mdef\u001b[39;00m \u001b[38;5;21mvalidate_args\u001b[39m(\u001b[38;5;28mself\u001b[39m, qubits: Sequence[\u001b[38;5;124m'\u001b[39m\u001b[38;5;124mcirq.Qid\u001b[39m\u001b[38;5;124m'\u001b[39m]) \u001b[38;5;241m-\u001b[39m\u001b[38;5;241m>\u001b[39m \u001b[38;5;28;01mNone\u001b[39;00m:\n\u001b[1;32m    187\u001b[0m     \u001b[38;5;124;03m\"\"\"Checks if this gate can be applied to the given qubits.\u001b[39;00m\n\u001b[1;32m    188\u001b[0m \n\u001b[1;32m    189\u001b[0m \u001b[38;5;124;03m    By default checks that:\u001b[39;00m\n\u001b[0;32m   (...)\u001b[0m\n\u001b[1;32m    201\u001b[0m \u001b[38;5;124;03m        ValueError: The gate can't be applied to the qubits.\u001b[39;00m\n\u001b[1;32m    202\u001b[0m \u001b[38;5;124;03m    \"\"\"\u001b[39;00m\n\u001b[0;32m--> 203\u001b[0m     \u001b[43m_validate_qid_shape\u001b[49m\u001b[43m(\u001b[49m\u001b[38;5;28;43mself\u001b[39;49m\u001b[43m,\u001b[49m\u001b[43m \u001b[49m\u001b[43mqubits\u001b[49m\u001b[43m)\u001b[49m\n",
      "File \u001b[0;32m/opt/.qbraid/environments/qbraid_000000/pyenv/lib/python3.9/site-packages/cirq/ops/raw_types.py:848\u001b[0m, in \u001b[0;36m_validate_qid_shape\u001b[0;34m(val, qubits)\u001b[0m\n\u001b[1;32m    843\u001b[0m \u001b[38;5;28;01mif\u001b[39;00m \u001b[38;5;28mlen\u001b[39m(qubits) \u001b[38;5;241m!=\u001b[39m \u001b[38;5;28mlen\u001b[39m(qid_shape):\n\u001b[1;32m    844\u001b[0m     \u001b[38;5;28;01mraise\u001b[39;00m \u001b[38;5;167;01mValueError\u001b[39;00m(\n\u001b[1;32m    845\u001b[0m         \u001b[38;5;124m'\u001b[39m\u001b[38;5;124mWrong number of qubits for <\u001b[39m\u001b[38;5;132;01m{!r}\u001b[39;00m\u001b[38;5;124m>. \u001b[39m\u001b[38;5;124m'\u001b[39m\n\u001b[1;32m    846\u001b[0m         \u001b[38;5;124m'\u001b[39m\u001b[38;5;124mExpected \u001b[39m\u001b[38;5;132;01m{}\u001b[39;00m\u001b[38;5;124m qubits but got <\u001b[39m\u001b[38;5;132;01m{!r}\u001b[39;00m\u001b[38;5;124m>.\u001b[39m\u001b[38;5;124m'\u001b[39m\u001b[38;5;241m.\u001b[39mformat(val, \u001b[38;5;28mlen\u001b[39m(qid_shape), qubits)\n\u001b[1;32m    847\u001b[0m     )\n\u001b[0;32m--> 848\u001b[0m \u001b[38;5;28;01mif\u001b[39;00m \u001b[38;5;28;43many\u001b[39;49m\u001b[43m(\u001b[49m\u001b[43mqid\u001b[49m\u001b[38;5;241;43m.\u001b[39;49m\u001b[43mdimension\u001b[49m\u001b[43m \u001b[49m\u001b[38;5;241;43m!=\u001b[39;49m\u001b[43m \u001b[49m\u001b[43mdimension\u001b[49m\u001b[43m \u001b[49m\u001b[38;5;28;43;01mfor\u001b[39;49;00m\u001b[43m \u001b[49m\u001b[43mqid\u001b[49m\u001b[43m,\u001b[49m\u001b[43m \u001b[49m\u001b[43mdimension\u001b[49m\u001b[43m \u001b[49m\u001b[38;5;129;43;01min\u001b[39;49;00m\u001b[43m \u001b[49m\u001b[38;5;28;43mzip\u001b[39;49m\u001b[43m(\u001b[49m\u001b[43mqubits\u001b[49m\u001b[43m,\u001b[49m\u001b[43m \u001b[49m\u001b[43mqid_shape\u001b[49m\u001b[43m)\u001b[49m\u001b[43m)\u001b[49m:\n\u001b[1;32m    849\u001b[0m     \u001b[38;5;28;01mraise\u001b[39;00m \u001b[38;5;167;01mValueError\u001b[39;00m(\n\u001b[1;32m    850\u001b[0m         \u001b[38;5;124m'\u001b[39m\u001b[38;5;124mWrong shape of qids for <\u001b[39m\u001b[38;5;132;01m{!r}\u001b[39;00m\u001b[38;5;124m>. \u001b[39m\u001b[38;5;124m'\u001b[39m\n\u001b[1;32m    851\u001b[0m         \u001b[38;5;124m'\u001b[39m\u001b[38;5;124mExpected \u001b[39m\u001b[38;5;132;01m{}\u001b[39;00m\u001b[38;5;124m but got \u001b[39m\u001b[38;5;132;01m{}\u001b[39;00m\u001b[38;5;124m <\u001b[39m\u001b[38;5;132;01m{!r}\u001b[39;00m\u001b[38;5;124m>.\u001b[39m\u001b[38;5;124m'\u001b[39m\u001b[38;5;241m.\u001b[39mformat(\n\u001b[1;32m    852\u001b[0m             val, qid_shape, \u001b[38;5;28mtuple\u001b[39m(qid\u001b[38;5;241m.\u001b[39mdimension \u001b[38;5;28;01mfor\u001b[39;00m qid \u001b[38;5;129;01min\u001b[39;00m qubits), qubits\n\u001b[1;32m    853\u001b[0m         )\n\u001b[1;32m    854\u001b[0m     )\n\u001b[1;32m    855\u001b[0m \u001b[38;5;28;01mif\u001b[39;00m \u001b[38;5;28mlen\u001b[39m(\u001b[38;5;28mset\u001b[39m(qubits)) \u001b[38;5;241m!=\u001b[39m \u001b[38;5;28mlen\u001b[39m(qubits):\n",
      "File \u001b[0;32m/opt/.qbraid/environments/qbraid_000000/pyenv/lib/python3.9/site-packages/cirq/ops/raw_types.py:848\u001b[0m, in \u001b[0;36m<genexpr>\u001b[0;34m(.0)\u001b[0m\n\u001b[1;32m    843\u001b[0m \u001b[38;5;28;01mif\u001b[39;00m \u001b[38;5;28mlen\u001b[39m(qubits) \u001b[38;5;241m!=\u001b[39m \u001b[38;5;28mlen\u001b[39m(qid_shape):\n\u001b[1;32m    844\u001b[0m     \u001b[38;5;28;01mraise\u001b[39;00m \u001b[38;5;167;01mValueError\u001b[39;00m(\n\u001b[1;32m    845\u001b[0m         \u001b[38;5;124m'\u001b[39m\u001b[38;5;124mWrong number of qubits for <\u001b[39m\u001b[38;5;132;01m{!r}\u001b[39;00m\u001b[38;5;124m>. \u001b[39m\u001b[38;5;124m'\u001b[39m\n\u001b[1;32m    846\u001b[0m         \u001b[38;5;124m'\u001b[39m\u001b[38;5;124mExpected \u001b[39m\u001b[38;5;132;01m{}\u001b[39;00m\u001b[38;5;124m qubits but got <\u001b[39m\u001b[38;5;132;01m{!r}\u001b[39;00m\u001b[38;5;124m>.\u001b[39m\u001b[38;5;124m'\u001b[39m\u001b[38;5;241m.\u001b[39mformat(val, \u001b[38;5;28mlen\u001b[39m(qid_shape), qubits)\n\u001b[1;32m    847\u001b[0m     )\n\u001b[0;32m--> 848\u001b[0m \u001b[38;5;28;01mif\u001b[39;00m \u001b[38;5;28many\u001b[39m(\u001b[43mqid\u001b[49m\u001b[38;5;241;43m.\u001b[39;49m\u001b[43mdimension\u001b[49m \u001b[38;5;241m!=\u001b[39m dimension \u001b[38;5;28;01mfor\u001b[39;00m qid, dimension \u001b[38;5;129;01min\u001b[39;00m \u001b[38;5;28mzip\u001b[39m(qubits, qid_shape)):\n\u001b[1;32m    849\u001b[0m     \u001b[38;5;28;01mraise\u001b[39;00m \u001b[38;5;167;01mValueError\u001b[39;00m(\n\u001b[1;32m    850\u001b[0m         \u001b[38;5;124m'\u001b[39m\u001b[38;5;124mWrong shape of qids for <\u001b[39m\u001b[38;5;132;01m{!r}\u001b[39;00m\u001b[38;5;124m>. \u001b[39m\u001b[38;5;124m'\u001b[39m\n\u001b[1;32m    851\u001b[0m         \u001b[38;5;124m'\u001b[39m\u001b[38;5;124mExpected \u001b[39m\u001b[38;5;132;01m{}\u001b[39;00m\u001b[38;5;124m but got \u001b[39m\u001b[38;5;132;01m{}\u001b[39;00m\u001b[38;5;124m <\u001b[39m\u001b[38;5;132;01m{!r}\u001b[39;00m\u001b[38;5;124m>.\u001b[39m\u001b[38;5;124m'\u001b[39m\u001b[38;5;241m.\u001b[39mformat(\n\u001b[1;32m    852\u001b[0m             val, qid_shape, \u001b[38;5;28mtuple\u001b[39m(qid\u001b[38;5;241m.\u001b[39mdimension \u001b[38;5;28;01mfor\u001b[39;00m qid \u001b[38;5;129;01min\u001b[39;00m qubits), qubits\n\u001b[1;32m    853\u001b[0m         )\n\u001b[1;32m    854\u001b[0m     )\n\u001b[1;32m    855\u001b[0m \u001b[38;5;28;01mif\u001b[39;00m \u001b[38;5;28mlen\u001b[39m(\u001b[38;5;28mset\u001b[39m(qubits)) \u001b[38;5;241m!=\u001b[39m \u001b[38;5;28mlen\u001b[39m(qubits):\n",
      "\u001b[0;31mAttributeError\u001b[0m: 'int' object has no attribute 'dimension'"
     ]
    }
   ],
   "source": [
    "import cirq\n",
    "\n",
    "# Pick a qubit.\n",
    "qubit = cirq.GridQubit(3, 0)\n",
    "\n",
    "# Create a circuit\n",
    "circuit = cirq.Circuit()\n",
    "cirq.H(0)\n",
    "print(\"Circuit:\")\n",
    "print(circuit)\n"
   ]
  },
  {
   "cell_type": "code",
   "execution_count": null,
   "id": "e5fe8ff7-e8ac-46fe-a1df-7730e9c201dc",
   "metadata": {},
   "outputs": [],
   "source": []
  }
 ],
 "metadata": {
  "kernelspec": {
   "display_name": "Python 3 [qBraid]",
   "language": "python",
   "name": "python3_qbraid"
  },
  "language_info": {
   "codemirror_mode": {
    "name": "ipython",
    "version": 3
   },
   "file_extension": ".py",
   "mimetype": "text/x-python",
   "name": "python",
   "nbconvert_exporter": "python",
   "pygments_lexer": "ipython3",
   "version": "3.9.7"
  }
 },
 "nbformat": 4,
 "nbformat_minor": 5
}
